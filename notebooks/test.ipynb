{
 "cells": [
  {
   "cell_type": "code",
   "execution_count": null,
   "metadata": {
    "vscode": {
     "languageId": "plaintext"
    }
   },
   "outputs": [],
   "source": [
    "\"# Prepare data\\n\",\n",
    "    \"train_gen, val_gen, test_gen = prepare_data_generators('data/processed')\\n\",\n",
    "    \"\\n\",\n",
    "    \"# Train and track experiments\\n\",\n",
    "    \"history = model.train(train_gen, val_gen)\\n\",\n",
    "    \"plot_training_metrics(history)\""
   ]
  },
  {
   "cell_type": "code",
   "execution_count": null,
   "metadata": {
    "vscode": {
     "languageId": "plaintext"
    }
   },
   "outputs": [],
   "source": []
  }
 ],
 "metadata": {
  "language_info": {
   "name": "python"
  }
 },
 "nbformat": 4,
 "nbformat_minor": 2
}
